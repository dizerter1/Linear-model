{
 "cells": [
  {
   "cell_type": "code",
   "execution_count": 2,
   "metadata": {},
   "outputs": [],
   "source": [
    "import pandas as pd\n",
    "import numpy as np\n",
    "from sklearn.pipeline import Pipeline\n",
    "from sklearn.preprocessing import RobustScaler\n",
    "from sklearn.metrics import mean_absolute_error\n",
    "from sklearn.model_selection import  train_test_split, GridSearchCV\n",
    "from sklearn.linear_model import LinearRegression, Lasso, Ridge, HuberRegressor\n",
    "from sklearn.preprocessing import  PolynomialFeatures,StandardScaler\n",
    "from sklearn.ensemble import StackingRegressor\n",
    "import warnings\n",
    "warnings.filterwarnings(\"ignore\")\n"
   ]
  },
  {
   "cell_type": "markdown",
   "metadata": {},
   "source": [
    "### Malumotlarni oqib olish\n",
    "### Download data"
   ]
  },
  {
   "cell_type": "code",
   "execution_count": 3,
   "metadata": {},
   "outputs": [],
   "source": [
    "sample_data = pd.read_csv(\"sample_submission.csv\")\n",
    "test_data = pd.read_csv(\"test.csv\")\n",
    "train_data = pd.read_csv(\"train.csv\")\n"
   ]
  },
  {
   "cell_type": "markdown",
   "metadata": {},
   "source": [
    "### Kategorik malumotlarni numerik malumotlarga ozgartirib olish\n",
    "### Convert categorical data to numerical data"
   ]
  },
  {
   "cell_type": "code",
   "execution_count": 4,
   "metadata": {},
   "outputs": [],
   "source": [
    "train_data['Sex'] = train_data['Sex'].map({'I': 1, 'F': 2, 'M': 3,'Diameter':4})\n",
    "test_data['Sex'] = test_data['Sex'].map({'I': 1, 'F': 2, 'M': 3,'Diameter':4})"
   ]
  },
  {
   "cell_type": "markdown",
   "metadata": {},
   "source": [
    "### Bor ustunlardan foydalanib yangi ustunlarni yaratib olish\n",
    "### Create new columns using existing columns"
   ]
  },
  {
   "cell_type": "code",
   "execution_count": 5,
   "metadata": {},
   "outputs": [],
   "source": [
    "def feature_engineering(df):\n",
    "\n",
    "    df['Surface Area'] = 2 * (df['Length'] * df['Diameter'] + df['Length'] * df['Height'] + df['Diameter'] * df['Height'])\n",
    "\n",
    "    df['Volume'] = df['Length'] * df['Diameter'] * df['Height']\n",
    "\n",
    "    df['Log Weight'] = df['Weight'].apply(lambda x: np.log(x + 1) if x > 0 else np.nan)\n",
    "\n",
    "    df['Length Bins'] = pd.qcut(df['Length'], q=4, labels=False)\n",
    "\n",
    "    return df\n"
   ]
  },
  {
   "cell_type": "markdown",
   "metadata": {},
   "source": [
    "### Yangi futureslarni qoshi olish\n",
    "### Get new futures"
   ]
  },
  {
   "cell_type": "code",
   "execution_count": 6,
   "metadata": {},
   "outputs": [],
   "source": [
    "train_data = feature_engineering(train_data)\n",
    "test_data = feature_engineering(test_data)"
   ]
  },
  {
   "cell_type": "markdown",
   "metadata": {},
   "source": [
    "### prediction va featureslarni ustunlarini ajaratib olish\n",
    "### extract prediction and features"
   ]
  },
  {
   "cell_type": "code",
   "execution_count": 7,
   "metadata": {},
   "outputs": [],
   "source": [
    "X_train_df = train_data.drop(columns=[\"id\",\"Age\"])\n",
    "y = train_data[[\"Age\"]]\n",
    "X_test_df = test_data.drop(columns=[\"id\"])\n",
    "\n",
    "cols_train_data = train_data[X_train_df.columns]\n",
    "cols_test_data = test_data[X_test_df.columns]\n",
    "\n",
    "cols_test_data\n",
    "cols_train_data\n",
    "\n",
    "X = cols_train_data\n",
    "y = y\n"
   ]
  },
  {
   "cell_type": "markdown",
   "metadata": {},
   "source": [
    "### Pipeline orqali Linear regression modeli uchun eng yaxshi bolgan polynominal degree ni aniqlab olish\n",
    "### Determining the best polynominal degree for a linear regression model through a pipeline"
   ]
  },
  {
   "cell_type": "code",
   "execution_count": 8,
   "metadata": {},
   "outputs": [
    {
     "data": {
      "text/plain": [
       "[np.float64(1.3977637609543163),\n",
       " np.float64(1.357627351760384),\n",
       " np.float64(1.379660555648401),\n",
       " np.float64(1.9555297120404818)]"
      ]
     },
     "execution_count": 8,
     "metadata": {},
     "output_type": "execute_result"
    }
   ],
   "source": [
    "\n",
    "X_train, X_test, y_train, y_test = train_test_split(X, y, test_size=0.25, random_state=42)\n",
    "\n",
    "LinearRegression_mae = []\n",
    "for x in range(1,5):\n",
    "\n",
    "    pipeline = Pipeline([\n",
    "        ('poly', PolynomialFeatures(degree=x)),\n",
    "        ('linear', LinearRegression())\n",
    "    ])\n",
    "    pipeline.fit(X_train, y_train)\n",
    "\n",
    "    y_pred = pipeline.predict(X_test)\n",
    "\n",
    "    mae_score = mean_absolute_error(y_test, y_pred)\n",
    "    LinearRegression_mae.append(mae_score)\n",
    "LinearRegression_mae"
   ]
  },
  {
   "cell_type": "markdown",
   "metadata": {},
   "source": [
    "### Pipeline orqali Huber regression modeli uchun eng yaxshi bolgan polynominal degree ni aniqlab olish\n",
    "### Determining the best Huber degree for a linear regression model through a pipeline"
   ]
  },
  {
   "cell_type": "code",
   "execution_count": 9,
   "metadata": {},
   "outputs": [
    {
     "data": {
      "text/plain": [
       "[np.float64(1.3655812367170297),\n",
       " np.float64(1.5380356085139826),\n",
       " np.float64(2.80864295344847),\n",
       " np.float64(4.106638965965048)]"
      ]
     },
     "execution_count": 9,
     "metadata": {},
     "output_type": "execute_result"
    }
   ],
   "source": [
    "\n",
    "X_train, X_test, y_train, y_test = train_test_split(X, y, test_size=0.25, random_state=42)\n",
    "\n",
    "HuberRegressor_mae = []\n",
    "for x in range(1,5):\n",
    "\n",
    "    pipeline = Pipeline([\n",
    "        ('poly', PolynomialFeatures(degree=x)),\n",
    "        ('linear', HuberRegressor())\n",
    "    ])\n",
    "    pipeline.fit(X_train, y_train)\n",
    "\n",
    "    y_pred = pipeline.predict(X_test)\n",
    "\n",
    "    mae_score = mean_absolute_error(y_test, y_pred)\n",
    "    HuberRegressor_mae.append(mae_score)\n",
    "HuberRegressor_mae"
   ]
  },
  {
   "cell_type": "markdown",
   "metadata": {},
   "source": [
    "### Pipeline orqali Ridge regression modeli uchun eng yaxshi bolgan polynominal degree ni aniqlab olish\n",
    "### Determining the best ridge degree for a linear regression model through a pipeline"
   ]
  },
  {
   "cell_type": "code",
   "execution_count": 10,
   "metadata": {},
   "outputs": [
    {
     "data": {
      "text/plain": [
       "[np.float64(1.402195001247534),\n",
       " 1,\n",
       " np.float64(1.359420710651855),\n",
       " 2,\n",
       " np.float64(1.3399002942007063),\n",
       " 3,\n",
       " np.float64(1.4032616803889915),\n",
       " 4]"
      ]
     },
     "execution_count": 10,
     "metadata": {},
     "output_type": "execute_result"
    }
   ],
   "source": [
    "\n",
    "X_train, X_test, y_train, y_test = train_test_split(X, y, test_size=0.25, random_state=42)\n",
    "\n",
    "Ridge_mae = []\n",
    "for x in range(1,5):\n",
    "\n",
    "    pipeline = Pipeline([\n",
    "        ('poly', PolynomialFeatures(degree=x)),\n",
    "        ('linear', Ridge(alpha=4.921544346900318832,max_iter=1000))\n",
    "    ])\n",
    "    pipeline.fit(X_train, y_train)\n",
    "\n",
    "    y_pred = pipeline.predict(X_test)\n",
    "\n",
    "    mae_score = mean_absolute_error(y_test, y_pred)\n",
    "    Ridge_mae.append(mae_score)\n",
    "    Ridge_mae.append(x)\n",
    "Ridge_mae"
   ]
  },
  {
   "cell_type": "markdown",
   "metadata": {},
   "source": [
    "### Pipeline orqali Lasso regression modeli uchun eng yaxshi bolgan polynominal degree ni aniqlab olish\n",
    "### Determining the best Lasso degree for a linear regression model through a pipeline"
   ]
  },
  {
   "cell_type": "code",
   "execution_count": 11,
   "metadata": {},
   "outputs": [
    {
     "data": {
      "text/plain": [
       "[np.float64(1.6646121240764733),\n",
       " 1,\n",
       " np.float64(1.4777246008517657),\n",
       " 2,\n",
       " np.float64(1.4109674135739405),\n",
       " 3,\n",
       " np.float64(1.4084545774308461),\n",
       " 4]"
      ]
     },
     "execution_count": 11,
     "metadata": {},
     "output_type": "execute_result"
    }
   ],
   "source": [
    "\n",
    "X_train, X_test, y_train, y_test = train_test_split(X, y, test_size=0.25, random_state=42)\n",
    "\n",
    "Lasso_mae = []\n",
    "for x in range(1,5):\n",
    "\n",
    "    pipeline = Pipeline([\n",
    "        ('poly', PolynomialFeatures(degree=x)),\n",
    "        ('linear', Lasso())\n",
    "    ])\n",
    "    pipeline.fit(X_train, y_train)\n",
    "\n",
    "    y_pred = pipeline.predict(X_test)\n",
    "\n",
    "    mae_score = mean_absolute_error(y_test, y_pred)\n",
    "    Lasso_mae.append(mae_score)\n",
    "    Lasso_mae.append(x)\n",
    "Lasso_mae"
   ]
  },
  {
   "cell_type": "markdown",
   "metadata": {},
   "source": [
    "### pipeline orqali Ridge regression uchun eng yaxshi estimatorlarni topish\n",
    "### Finding the best estimators for Ridge regression via pipeline"
   ]
  },
  {
   "cell_type": "code",
   "execution_count": 12,
   "metadata": {},
   "outputs": [
    {
     "name": "stdout",
     "output_type": "stream",
     "text": [
      "Eng yaxshi parametrlar: {'ridge__alpha': np.float64(1.023292992280754), 'ridge__max_iter': 1000}\n",
      "Test setdagi MAE: 1.3423301645853538\n"
     ]
    }
   ],
   "source": [
    "X_train, X_test, y_train, y_test = train_test_split(X, y, test_size=0.25, random_state=42)\n",
    "\n",
    "pipeline = Pipeline([\n",
    "    ('poly', PolynomialFeatures(degree=3)),\n",
    "    ('scaler', StandardScaler()),\n",
    "    ('ridge', Ridge())\n",
    "])\n",
    "\n",
    "param_grid = {\n",
    "    'ridge__alpha': np.logspace(0.01, 0.2, 20),\n",
    "    'ridge__max_iter': [1000, 5000, 10000]\n",
    "}\n",
    "\n",
    "grid_search = GridSearchCV(pipeline, param_grid, cv=5, scoring='neg_mean_absolute_error', n_jobs=-1)\n",
    "\n",
    "grid_search.fit(X_train, y_train)\n",
    "\n",
    "best_params = grid_search.best_params_\n",
    "print(f\"Eng yaxshi parametrlar: {best_params}\")\n",
    "\n",
    "best_model = grid_search.best_estimator_\n",
    "y_pred = best_model.predict(X_test)\n",
    "\n",
    "mae_score = mean_absolute_error(y_test, y_pred)\n",
    "print(f\"Test setdagi MAE: {mae_score}\")\n"
   ]
  },
  {
   "cell_type": "markdown",
   "metadata": {},
   "source": [
    "### Tepada eng yaxshi deb topilgan regresiyalar uchun polynominal degrelarni qollagan holda malumotlarni scaling qilib modelga yakun yasaymiz\n",
    "### We conclude the model by scaling the data, leaving the polynomial degrees for the regressions found to be the best at the top"
   ]
  },
  {
   "cell_type": "code",
   "execution_count": 13,
   "metadata": {},
   "outputs": [
    {
     "name": "stdout",
     "output_type": "stream",
     "text": [
      "Stacking Model MAE: 1.3112\n",
      "Best parameters for Linear Regression: {'linear__fit_intercept': False}\n",
      "Best parameters for Ridge Regression: {'ridge__alpha': 0.1, 'ridge__fit_intercept': True}\n",
      "Best parameters for Lasso Regression: {'lasso__alpha': 0.01, 'lasso__fit_intercept': True}\n",
      "Best parameters for Huber Regression: {'huber__alpha': 0.0001, 'huber__epsilon': 1.1}\n"
     ]
    }
   ],
   "source": [
    "X_train, X_test, y_train, y_test = train_test_split(X, y, test_size=0.25, random_state=42)\n",
    "\n",
    "pipeline_ridge = Pipeline([\n",
    "    ('poly', PolynomialFeatures(degree=3)),\n",
    "    ('scaler', RobustScaler()),\n",
    "    ('ridge', Ridge(alpha=0.021544346900318832, max_iter=1000))\n",
    "])\n",
    "\n",
    "pipeline_lasso = Pipeline([\n",
    "    ('poly', PolynomialFeatures(degree=3)),\n",
    "    ('scaler', RobustScaler()),\n",
    "    ('lasso', Lasso())\n",
    "])\n",
    "\n",
    "pipeline_linear = Pipeline([\n",
    "    ('poly', PolynomialFeatures(degree=3)),\n",
    "    ('scaler', RobustScaler()),\n",
    "    ('linear', LinearRegression())\n",
    "])\n",
    "\n",
    "pipeline_huber = Pipeline([\n",
    "    ('poly', PolynomialFeatures(degree=1)),\n",
    "    ('scaler', RobustScaler()),\n",
    "    ('huber', HuberRegressor())\n",
    "])\n",
    "\n",
    "param_grid_linear = {\n",
    "    'linear__fit_intercept': [True, False]\n",
    "}\n",
    "\n",
    "param_grid_ridge = {\n",
    "    'ridge__alpha': [0.1, 1.0, 10.0],\n",
    "    'ridge__fit_intercept': [True, False]\n",
    "}\n",
    "\n",
    "param_grid_lasso = {\n",
    "    'lasso__alpha': [0.01, 0.1, 1.0],\n",
    "    'lasso__fit_intercept': [True, False]\n",
    "}\n",
    "\n",
    "param_grid_huber = {\n",
    "    'huber__epsilon': [1.05, 1.1, 1.2],\n",
    "    'huber__alpha': [0.0001, 0.001, 0.01]\n",
    "}\n",
    "\n",
    "grid_linear = GridSearchCV(pipeline_linear, param_grid_linear, cv=5, scoring='neg_mean_absolute_error')\n",
    "grid_ridge = GridSearchCV(pipeline_ridge, param_grid_ridge, cv=5, scoring='neg_mean_absolute_error')\n",
    "grid_lasso = GridSearchCV(pipeline_lasso, param_grid_lasso, cv=5, scoring='neg_mean_absolute_error')\n",
    "grid_huber = GridSearchCV(pipeline_huber, param_grid_huber, cv=5, scoring='neg_mean_absolute_error')\n",
    "\n",
    "grid_linear.fit(X_train, y_train)\n",
    "grid_ridge.fit(X_train, y_train)\n",
    "grid_lasso.fit(X_train, y_train)\n",
    "grid_huber.fit(X_train, y_train)\n",
    "\n",
    "best_linear_model = grid_linear.best_estimator_\n",
    "best_ridge_model = grid_ridge.best_estimator_\n",
    "best_lasso_model = grid_lasso.best_estimator_\n",
    "best_huber_model = grid_huber.best_estimator_\n",
    "\n",
    "stacking_model = StackingRegressor(\n",
    "    estimators=[\n",
    "        ('linear', best_linear_model),\n",
    "        ('ridge', best_ridge_model),\n",
    "        ('lasso', best_lasso_model),\n",
    "        ('huber', best_huber_model),\n",
    "    ],\n",
    "    final_estimator=LinearRegression()\n",
    ")\n",
    "\n",
    "stacking_model.fit(X_train, y_train)\n",
    "\n",
    "stacking_pred = stacking_model.predict(X_test).round()\n",
    "\n",
    "stacking_mae = mean_absolute_error(stacking_pred, y_test)\n",
    "print(f'Stacking Model MAE: {stacking_mae}')\n",
    "\n",
    "print(f'Best parameters for Linear Regression: {grid_linear.best_params_}')\n",
    "print(f'Best parameters for Ridge Regression: {grid_ridge.best_params_}')\n",
    "print(f'Best parameters for Lasso Regression: {grid_lasso.best_params_}')\n",
    "print(f'Best parameters for Huber Regression: {grid_huber.best_params_}')\n"
   ]
  },
  {
   "cell_type": "markdown",
   "metadata": {},
   "source": [
    "### endi competition bizga bergan test malumotlarni predict qilib olamiz\n",
    "### now we can predict the test data given to us by the competition"
   ]
  },
  {
   "cell_type": "code",
   "execution_count": 14,
   "metadata": {},
   "outputs": [],
   "source": [
    "\n",
    "X_train = train_data.drop([\"id\",\"Age\"], axis = 1)\n",
    "y_train = train_data[\"Age\"]\n",
    "X_test = test_data.drop([\"id\"], axis = 1)\n",
    "\n",
    "pipeline_ridge = Pipeline([\n",
    "    ('poly', PolynomialFeatures(degree=3)),\n",
    "    ('scaler', RobustScaler()),\n",
    "    ('ridge', Ridge(alpha=0.021544346900318832, max_iter=1000))\n",
    "])\n",
    "\n",
    "pipeline_lasso = Pipeline([\n",
    "    ('poly', PolynomialFeatures(degree=3)),\n",
    "    ('scaler', RobustScaler()),\n",
    "    ('lasso', Lasso())\n",
    "])\n",
    "\n",
    "pipeline_linear = Pipeline([\n",
    "    ('poly', PolynomialFeatures(degree=3)),\n",
    "    ('scaler', RobustScaler()),\n",
    "    ('linear', LinearRegression())\n",
    "])\n",
    "\n",
    "pipeline_huber = Pipeline([\n",
    "    ('poly', PolynomialFeatures(degree=1)),\n",
    "    ('scaler', RobustScaler()),\n",
    "    ('huber', HuberRegressor())\n",
    "])\n",
    "\n",
    "param_grid_linear = {\n",
    "    'linear__fit_intercept': [True, False]\n",
    "}\n",
    "\n",
    "param_grid_ridge = {\n",
    "    'ridge__alpha': [0.1, 1.0, 10.0],\n",
    "    'ridge__fit_intercept': [True, False]\n",
    "}\n",
    "\n",
    "param_grid_lasso = {\n",
    "    'lasso__alpha': [0.01, 0.1, 1.0],\n",
    "    'lasso__fit_intercept': [True, False]\n",
    "}\n",
    "\n",
    "param_grid_huber = {\n",
    "    'huber__epsilon': [1.05, 1.1, 1.2],\n",
    "    'huber__alpha': [0.0001, 0.001, 0.01]\n",
    "}\n",
    "\n",
    "grid_linear = GridSearchCV(pipeline_linear, param_grid_linear, cv=5, scoring='neg_mean_absolute_error')\n",
    "grid_ridge = GridSearchCV(pipeline_ridge, param_grid_ridge, cv=5, scoring='neg_mean_absolute_error')\n",
    "grid_lasso = GridSearchCV(pipeline_lasso, param_grid_lasso, cv=5, scoring='neg_mean_absolute_error')\n",
    "grid_huber = GridSearchCV(pipeline_huber, param_grid_huber, cv=5, scoring='neg_mean_absolute_error')\n",
    "\n",
    "grid_linear.fit(X_train, y_train)\n",
    "grid_ridge.fit(X_train, y_train)\n",
    "grid_lasso.fit(X_train, y_train)\n",
    "grid_huber.fit(X_train, y_train)\n",
    "\n",
    "best_linear_model = grid_linear.best_estimator_\n",
    "best_ridge_model = grid_ridge.best_estimator_\n",
    "best_lasso_model = grid_lasso.best_estimator_\n",
    "best_huber_model = grid_huber.best_estimator_\n",
    "\n",
    "stacking_model = StackingRegressor(\n",
    "    estimators=[\n",
    "        ('linear', best_linear_model),\n",
    "        ('ridge', best_ridge_model),\n",
    "        ('lasso', best_lasso_model),\n",
    "        ('huber', best_huber_model),\n",
    "    ],\n",
    "    final_estimator=LinearRegression()\n",
    ")\n",
    "\n",
    "stacking_model.fit(X_train, y_train)\n",
    "\n",
    "stacking_pred = stacking_model.predict(X_test).round()"
   ]
  },
  {
   "cell_type": "markdown",
   "metadata": {},
   "source": [
    "### predictlarni dataframega qoshib olamiz\n",
    "### we add predicts to dataframe"
   ]
  },
  {
   "cell_type": "code",
   "execution_count": 15,
   "metadata": {},
   "outputs": [
    {
     "data": {
      "text/html": [
       "<div>\n",
       "<style scoped>\n",
       "    .dataframe tbody tr th:only-of-type {\n",
       "        vertical-align: middle;\n",
       "    }\n",
       "\n",
       "    .dataframe tbody tr th {\n",
       "        vertical-align: top;\n",
       "    }\n",
       "\n",
       "    .dataframe thead th {\n",
       "        text-align: right;\n",
       "    }\n",
       "</style>\n",
       "<table border=\"1\" class=\"dataframe\">\n",
       "  <thead>\n",
       "    <tr style=\"text-align: right;\">\n",
       "      <th></th>\n",
       "      <th>id</th>\n",
       "      <th>Age</th>\n",
       "    </tr>\n",
       "  </thead>\n",
       "  <tbody>\n",
       "    <tr>\n",
       "      <th>0</th>\n",
       "      <td>15000</td>\n",
       "      <td>6.0</td>\n",
       "    </tr>\n",
       "    <tr>\n",
       "      <th>1</th>\n",
       "      <td>15001</td>\n",
       "      <td>9.0</td>\n",
       "    </tr>\n",
       "    <tr>\n",
       "      <th>2</th>\n",
       "      <td>15002</td>\n",
       "      <td>5.0</td>\n",
       "    </tr>\n",
       "    <tr>\n",
       "      <th>3</th>\n",
       "      <td>15003</td>\n",
       "      <td>8.0</td>\n",
       "    </tr>\n",
       "    <tr>\n",
       "      <th>4</th>\n",
       "      <td>15004</td>\n",
       "      <td>7.0</td>\n",
       "    </tr>\n",
       "    <tr>\n",
       "      <th>...</th>\n",
       "      <td>...</td>\n",
       "      <td>...</td>\n",
       "    </tr>\n",
       "    <tr>\n",
       "      <th>9995</th>\n",
       "      <td>24995</td>\n",
       "      <td>9.0</td>\n",
       "    </tr>\n",
       "    <tr>\n",
       "      <th>9996</th>\n",
       "      <td>24996</td>\n",
       "      <td>8.0</td>\n",
       "    </tr>\n",
       "    <tr>\n",
       "      <th>9997</th>\n",
       "      <td>24997</td>\n",
       "      <td>10.0</td>\n",
       "    </tr>\n",
       "    <tr>\n",
       "      <th>9998</th>\n",
       "      <td>24998</td>\n",
       "      <td>9.0</td>\n",
       "    </tr>\n",
       "    <tr>\n",
       "      <th>9999</th>\n",
       "      <td>24999</td>\n",
       "      <td>8.0</td>\n",
       "    </tr>\n",
       "  </tbody>\n",
       "</table>\n",
       "<p>10000 rows × 2 columns</p>\n",
       "</div>"
      ],
      "text/plain": [
       "         id   Age\n",
       "0     15000   6.0\n",
       "1     15001   9.0\n",
       "2     15002   5.0\n",
       "3     15003   8.0\n",
       "4     15004   7.0\n",
       "...     ...   ...\n",
       "9995  24995   9.0\n",
       "9996  24996   8.0\n",
       "9997  24997  10.0\n",
       "9998  24998   9.0\n",
       "9999  24999   8.0\n",
       "\n",
       "[10000 rows x 2 columns]"
      ]
     },
     "execution_count": 15,
     "metadata": {},
     "output_type": "execute_result"
    }
   ],
   "source": [
    "df = pd.DataFrame(pd.read_csv(\"test.csv\")['id'])\n",
    "df[\"Age\"]=stacking_pred\n",
    "df"
   ]
  },
  {
   "cell_type": "markdown",
   "metadata": {},
   "source": [
    "### data frameni jonatish uchun datasetga aylantiramiz\n",
    "### we turn the data frame into a dataset for connection"
   ]
  },
  {
   "cell_type": "code",
   "execution_count": 16,
   "metadata": {},
   "outputs": [],
   "source": [
    "df.to_csv(\"my_submission1.csv\", index=False)"
   ]
  },
  {
   "cell_type": "code",
   "execution_count": null,
   "metadata": {},
   "outputs": [],
   "source": []
  }
 ],
 "metadata": {
  "kernelspec": {
   "display_name": "Python 3",
   "language": "python",
   "name": "python3"
  },
  "language_info": {
   "codemirror_mode": {
    "name": "ipython",
    "version": 3
   },
   "file_extension": ".py",
   "mimetype": "text/x-python",
   "name": "python",
   "nbconvert_exporter": "python",
   "pygments_lexer": "ipython3",
   "version": "3.12.2"
  }
 },
 "nbformat": 4,
 "nbformat_minor": 2
}
