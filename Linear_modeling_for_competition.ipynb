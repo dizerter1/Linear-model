{
 "cells": [
  {
   "cell_type": "markdown",
   "metadata": {},
   "source": [
    "# Call libraries"
   ]
  },
  {
   "cell_type": "code",
   "execution_count": 3,
   "metadata": {},
   "outputs": [],
   "source": [
    "import pandas as pd\n",
    "from sklearn.model_selection import train_test_split\n",
    "from sklearn.linear_model import LinearRegression, Lasso, Ridge, HuberRegressor, TheilSenRegressor\n",
    "from sklearn.preprocessing import PolynomialFeatures, OrdinalEncoder, RobustScaler\n",
    "from sklearn.ensemble import StackingRegressor\n",
    "from sklearn.metrics import mean_absolute_error\n",
    "from sklearn.pipeline import Pipeline\n",
    "from sklearn.model_selection import cross_val_predict\n",
    "import warnings\n",
    "warnings.filterwarnings(\"ignore\")\n"
   ]
  },
  {
   "cell_type": "markdown",
   "metadata": {},
   "source": [
    "# Call Data"
   ]
  },
  {
   "cell_type": "code",
   "execution_count": 4,
   "metadata": {},
   "outputs": [],
   "source": [
    "train = pd.read_csv(\"train.csv\", index_col=0)\n",
    "test = pd.read_csv(\"test.csv\", index_col = 0)"
   ]
  },
  {
   "cell_type": "markdown",
   "metadata": {},
   "source": [
    "# Feature Engineering"
   ]
  },
  {
   "cell_type": "markdown",
   "metadata": {},
   "source": [
    "## Creating new features"
   ]
  },
  {
   "cell_type": "code",
   "execution_count": 5,
   "metadata": {},
   "outputs": [],
   "source": [
    "min_length_train = train[\"Length\"].min()\n",
    "min_length_test = test[\"Length\"].min()\n",
    "\n",
    "test[\"Length\"] = test[\"Length\"].replace(min_length_test, min_length_train)\n",
    "test['Height'] = test['Height'].replace(0, 0.0125)\n",
    "train['Height'] = train['Height'].replace(0, 0.0125)"
   ]
  },
  {
   "cell_type": "code",
   "execution_count": 6,
   "metadata": {},
   "outputs": [],
   "source": [
    "def create_new_columns(df):\n",
    "    df['Weight_to_Length'] = df['Weight'] / df['Length']\n",
    "\n",
    "    df['Volume'] = df['Length'] * df['Diameter'] * df['Height']\n",
    "\n",
    "    df['Shucked_Weight_Ratio'] = df['Shucked Weight'] / df['Weight']\n",
    "    df['Shell_Weight_Ratio'] = df['Shell Weight'] / df['Weight']\n",
    "\n",
    "    df['Shell_Weight_to_Length_Ratio'] = df['Shell Weight'] / df['Length']\n",
    "    df['Shell_Weight_to_Diameter_Ratio'] = df['Shell Weight'] / df['Diameter']\n",
    "    df['Total_Weight_Components'] = df['Shucked Weight'] + df['Viscera Weight'] + df['Shell Weight']\n",
    "    df['Shucked_to_Shell_Weight_Ratio'] = df['Shucked Weight'] / df['Shell Weight']\n",
    "    df['Viscera_to_Shell_Weight_Ratio'] = df['Viscera Weight'] / df['Shell Weight']\n",
    "\n",
    "create_new_columns(train)\n",
    "create_new_columns(test)\n"
   ]
  },
  {
   "cell_type": "markdown",
   "metadata": {},
   "source": [
    "## \"Sex\" feature"
   ]
  },
  {
   "cell_type": "code",
   "execution_count": 7,
   "metadata": {},
   "outputs": [],
   "source": [
    "train=train[train[\"Sex\"]!=\"Diameter\"]"
   ]
  },
  {
   "cell_type": "code",
   "execution_count": 8,
   "metadata": {},
   "outputs": [],
   "source": [
    "def OrdEnc(data, col_1, col_2):\n",
    "    categ = list(data.groupby([col_1])[col_2].mean().sort_values().index)\n",
    "    oe = OrdinalEncoder(categories=[categ])\n",
    "    data[col_1 + \"_encoded\"] = oe.fit_transform(data[[col_1]])\n",
    "    data[col_1 + \"_encoded\"] = data[col_1 + \"_encoded\"] + 1\n",
    "\n",
    "OrdEnc(train, \"Sex\", \"Age\")\n",
    "categ = list(train.groupby([\"Sex\"])[\"Age\"].mean().sort_values().index)\n",
    "oe = OrdinalEncoder(categories=[categ])\n",
    "test[\"Sex\" + \"_encoded\"] = oe.fit_transform(test[[\"Sex\"]])\n",
    "test[\"Sex\" + \"_encoded\"] = test[\"Sex\" + \"_encoded\"] + 1"
   ]
  },
  {
   "cell_type": "markdown",
   "metadata": {},
   "source": [
    "# Training model in local"
   ]
  },
  {
   "cell_type": "code",
   "execution_count": 9,
   "metadata": {},
   "outputs": [
    {
     "name": "stdout",
     "output_type": "stream",
     "text": [
      "Test MAE for Stacking Model: 1.301562693351867\n"
     ]
    }
   ],
   "source": [
    "X = train.select_dtypes('number').drop(\"Age\", axis=1)\n",
    "y = train['Age']\n",
    "X_train, X_test, y_train, y_test = train_test_split(X, y, random_state=42, test_size=0.25)\n",
    "\n",
    "pipeline_ridge = Pipeline([\n",
    "    ('scaler', RobustScaler()),\n",
    "    ('poly', PolynomialFeatures(degree=2)),\n",
    "    ('ridge', Ridge(alpha=16))\n",
    "])\n",
    "\n",
    "pipeline_lasso = Pipeline([\n",
    "    ('scaler', RobustScaler()),\n",
    "    ('poly', PolynomialFeatures(degree=1)),\n",
    "    ('lasso', Lasso(alpha=0.00093))\n",
    "])\n",
    "\n",
    "pipeline_huber = Pipeline([\n",
    "    ('scaler', RobustScaler()),\n",
    "    ('poly', PolynomialFeatures(degree=1)),\n",
    "    ('huber', HuberRegressor(epsilon=1.35, alpha=0.001))\n",
    "])\n",
    "\n",
    "pipeline_theilsen = Pipeline([\n",
    "    ('scaler', RobustScaler()),\n",
    "    ('poly', PolynomialFeatures(degree=1)),\n",
    "    ('theilsen', TheilSenRegressor())\n",
    "])\n",
    "\n",
    "pipeline_linear = Pipeline([\n",
    "    ('scaler', RobustScaler()),\n",
    "    ('poly', PolynomialFeatures(degree=2)),\n",
    "    ('linear', LinearRegression())\n",
    "])\n",
    "\n",
    "\n",
    "estimators = [\n",
    "    ('ridge', pipeline_ridge),\n",
    "    ('lasso', pipeline_lasso),\n",
    "    ('huber', pipeline_huber),\n",
    "    ('theilsen', pipeline_theilsen),\n",
    "    ('linear', pipeline_linear)\n",
    "]\n",
    "\n",
    "stacking_model = StackingRegressor(estimators=estimators, final_estimator=HuberRegressor(alpha=0.001))\n",
    "stacking_model.fit(X_train, y_train)\n",
    "\n",
    "y_pred = stacking_model.predict(X_test)\n",
    "print(\"Test MAE for Stacking Model:\", mean_absolute_error(y_test, y_pred))\n"
   ]
  },
  {
   "cell_type": "markdown",
   "metadata": {},
   "source": [
    "# Create real model and predict in Test"
   ]
  },
  {
   "cell_type": "code",
   "execution_count": 10,
   "metadata": {},
   "outputs": [],
   "source": [
    "X_train = train.drop(columns=['Age', \"Sex\"], axis=1)\n",
    "y_train = train['Age']\n",
    "X_test = test.drop(columns=[\"Sex\"], axis=1).copy()"
   ]
  },
  {
   "cell_type": "code",
   "execution_count": 11,
   "metadata": {},
   "outputs": [],
   "source": [
    "pipeline_ridge = Pipeline([\n",
    "    ('scaler', RobustScaler()),\n",
    "    ('poly', PolynomialFeatures(degree=2)),\n",
    "    ('ridge', Ridge(alpha=16))\n",
    "])\n",
    "\n",
    "pipeline_lasso = Pipeline([\n",
    "    ('scaler', RobustScaler()),\n",
    "    ('poly', PolynomialFeatures(degree=1)),\n",
    "    ('lasso', Lasso(alpha=0.00093))\n",
    "])\n",
    "\n",
    "pipeline_huber = Pipeline([\n",
    "    ('scaler', RobustScaler()),\n",
    "    ('poly', PolynomialFeatures(degree=1)),\n",
    "    ('huber', HuberRegressor(epsilon=1.35, alpha=0.001))\n",
    "])\n",
    "\n",
    "pipeline_theilsen = Pipeline([\n",
    "    ('scaler', RobustScaler()),\n",
    "    ('poly', PolynomialFeatures(degree=1)),\n",
    "    ('theilsen', TheilSenRegressor())\n",
    "])\n",
    "\n",
    "pipeline_linear = Pipeline([\n",
    "    ('scaler', RobustScaler()),\n",
    "    ('poly', PolynomialFeatures(degree=2)),\n",
    "    ('linear', LinearRegression())\n",
    "])\n",
    "\n",
    "estimators = [\n",
    "    ('ridge', pipeline_ridge),\n",
    "    ('lasso', pipeline_lasso),\n",
    "    ('huber', pipeline_huber),\n",
    "    ('theilsen', pipeline_theilsen),\n",
    "    ('linear', pipeline_linear)\n",
    "]\n",
    "\n",
    "stacking_model = StackingRegressor(estimators=estimators, final_estimator=HuberRegressor(alpha=0.001))\n",
    "stacking_model.fit(X_train, y_train)\n",
    "\n",
    "y_pred = stacking_model.predict(X_test)"
   ]
  },
  {
   "cell_type": "code",
   "execution_count": 12,
   "metadata": {},
   "outputs": [
    {
     "data": {
      "text/html": [
       "<div>\n",
       "<style scoped>\n",
       "    .dataframe tbody tr th:only-of-type {\n",
       "        vertical-align: middle;\n",
       "    }\n",
       "\n",
       "    .dataframe tbody tr th {\n",
       "        vertical-align: top;\n",
       "    }\n",
       "\n",
       "    .dataframe thead th {\n",
       "        text-align: right;\n",
       "    }\n",
       "</style>\n",
       "<table border=\"1\" class=\"dataframe\">\n",
       "  <thead>\n",
       "    <tr style=\"text-align: right;\">\n",
       "      <th></th>\n",
       "      <th>id</th>\n",
       "      <th>Age</th>\n",
       "    </tr>\n",
       "  </thead>\n",
       "  <tbody>\n",
       "    <tr>\n",
       "      <th>0</th>\n",
       "      <td>15000</td>\n",
       "      <td>6.364673</td>\n",
       "    </tr>\n",
       "    <tr>\n",
       "      <th>1</th>\n",
       "      <td>15001</td>\n",
       "      <td>8.877134</td>\n",
       "    </tr>\n",
       "    <tr>\n",
       "      <th>2</th>\n",
       "      <td>15002</td>\n",
       "      <td>5.448133</td>\n",
       "    </tr>\n",
       "    <tr>\n",
       "      <th>3</th>\n",
       "      <td>15003</td>\n",
       "      <td>8.193297</td>\n",
       "    </tr>\n",
       "    <tr>\n",
       "      <th>4</th>\n",
       "      <td>15004</td>\n",
       "      <td>6.506409</td>\n",
       "    </tr>\n",
       "    <tr>\n",
       "      <th>...</th>\n",
       "      <td>...</td>\n",
       "      <td>...</td>\n",
       "    </tr>\n",
       "    <tr>\n",
       "      <th>9995</th>\n",
       "      <td>24995</td>\n",
       "      <td>8.639782</td>\n",
       "    </tr>\n",
       "    <tr>\n",
       "      <th>9996</th>\n",
       "      <td>24996</td>\n",
       "      <td>7.885621</td>\n",
       "    </tr>\n",
       "    <tr>\n",
       "      <th>9997</th>\n",
       "      <td>24997</td>\n",
       "      <td>10.125700</td>\n",
       "    </tr>\n",
       "    <tr>\n",
       "      <th>9998</th>\n",
       "      <td>24998</td>\n",
       "      <td>8.997649</td>\n",
       "    </tr>\n",
       "    <tr>\n",
       "      <th>9999</th>\n",
       "      <td>24999</td>\n",
       "      <td>7.688763</td>\n",
       "    </tr>\n",
       "  </tbody>\n",
       "</table>\n",
       "<p>10000 rows × 2 columns</p>\n",
       "</div>"
      ],
      "text/plain": [
       "         id        Age\n",
       "0     15000   6.364673\n",
       "1     15001   8.877134\n",
       "2     15002   5.448133\n",
       "3     15003   8.193297\n",
       "4     15004   6.506409\n",
       "...     ...        ...\n",
       "9995  24995   8.639782\n",
       "9996  24996   7.885621\n",
       "9997  24997  10.125700\n",
       "9998  24998   8.997649\n",
       "9999  24999   7.688763\n",
       "\n",
       "[10000 rows x 2 columns]"
      ]
     },
     "execution_count": 12,
     "metadata": {},
     "output_type": "execute_result"
    }
   ],
   "source": [
    "df = pd.DataFrame(pd.read_csv(\"test.csv\")[\"id\"])\n",
    "df[\"Age\"] = y_pred\n",
    "df"
   ]
  },
  {
   "cell_type": "code",
   "execution_count": 13,
   "metadata": {},
   "outputs": [],
   "source": [
    "df.to_csv(\"my_submission.csv\", index=False)"
   ]
  }
 ],
 "metadata": {
  "kernelspec": {
   "display_name": ".venv",
   "language": "python",
   "name": "python3"
  },
  "language_info": {
   "codemirror_mode": {
    "name": "ipython",
    "version": 3
   },
   "file_extension": ".py",
   "mimetype": "text/x-python",
   "name": "python",
   "nbconvert_exporter": "python",
   "pygments_lexer": "ipython3",
   "version": "3.12.2"
  }
 },
 "nbformat": 4,
 "nbformat_minor": 2
}
